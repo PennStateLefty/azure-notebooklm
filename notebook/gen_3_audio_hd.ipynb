{
 "cells": [
  {
   "cell_type": "markdown",
   "metadata": {},
   "source": [
    "# 3. Generate Audio (HD Voice)\n",
    "\n",
    "https://learn.microsoft.com/en-us/azure/ai-services/speech-service/high-definition-voices"
   ]
  },
  {
   "cell_type": "code",
   "execution_count": 8,
   "metadata": {},
   "outputs": [
    {
     "name": "stdout",
     "output_type": "stream",
     "text": [
      "https://aoai-jmg-eastus.openai.azure.com/\n",
      "gpt-4o-mini\n"
     ]
    }
   ],
   "source": [
    "from dotenv import load_dotenv\n",
    "import os\n",
    "\n",
    "load_dotenv(dotenv_path=\".env\")\n",
    "\n",
    "print(os.getenv(\"AZURE_OPENAI_ENDPOINT\")) \n",
    "print(os.getenv(\"AZURE_OPENAI_MODEL\"))"
   ]
  },
  {
   "cell_type": "code",
   "execution_count": 9,
   "metadata": {},
   "outputs": [
    {
     "data": {
      "text/plain": [
       "[{'speaker': 'Host (Ava)',\n",
       "  'text': 'Welcome back to the SportsCenter Showdown! What a game we witnessed!'},\n",
       " {'speaker': 'Guest (Alex)',\n",
       "  'text': 'Absolutely, Ava! Steelers and Browns never fail to deliver drama!'},\n",
       " {'speaker': 'Host (Ava)',\n",
       "  'text': 'Right? The first quarter kicked off with Jameis Winston hitting Jerry Jeudy for a 35-yard TD!'},\n",
       " {'speaker': 'Guest (Alex)',\n",
       "  'text': 'What a way to start! The Browns were looking sharp early on!'},\n",
       " {'speaker': 'Host (Ava)',\n",
       "  'text': 'But then, disaster struck! Mike Ford Jr. went down with a concussion. Tough break!'},\n",
       " {'speaker': 'Guest (Alex)',\n",
       "  'text': 'Yeah, that’s a huge loss for their secondary! The Steelers smelled blood!'},\n",
       " {'speaker': 'Host (Ava)',\n",
       "  'text': 'And they capitalized! Keeanu Benton snagged an interception in the second quarter!'},\n",
       " {'speaker': 'Guest (Alex)',\n",
       "  'text': 'That was a game-changer! Then Najee Harris powered through for a 1-yard TD!'},\n",
       " {'speaker': 'Host (Ava)',\n",
       "  'text': 'Steelers took the lead, and it felt like they were just getting started!'},\n",
       " {'speaker': 'Guest (Alex)',\n",
       "  'text': 'But hold on! Dustin Hopkins missed a 38-yarder! I mean, come on!'},\n",
       " {'speaker': 'Host (Ava)',\n",
       "  'text': \"Right? He must've been distracted by the nacho stand! Wide left!\"},\n",
       " {'speaker': 'Guest (Alex)',\n",
       "  'text': 'And then he missed another one in the third! Talk about a rough day!'},\n",
       " {'speaker': 'Host (Ava)',\n",
       "  'text': 'Meanwhile, Russell Wilson found Van Jefferson for a touchdown! What a connection!'},\n",
       " {'speaker': 'Guest (Alex)',\n",
       "  'text': 'Steelers were rolling! They extended their lead to 20-7! Incredible!'},\n",
       " {'speaker': 'Host (Ava)',\n",
       "  'text': 'And let’s not forget Elandon Roberts stopping Jerome Ford on fourth down!'},\n",
       " {'speaker': 'Guest (Alex)',\n",
       "  'text': 'That was a massive defensive stand! The Steelers were relentless!'},\n",
       " {'speaker': 'Host (Ava)',\n",
       "  'text': 'Russell Wilson sealed the deal with a TD to Pat Freiermuth! Game over!'},\n",
       " {'speaker': 'Guest (Alex)',\n",
       "  'text': 'What a performance! But injuries hit hard for the Steelers!'},\n",
       " {'speaker': 'Host (Ava)',\n",
       "  'text': 'Yeah, Ogunjobi and Jackson both left the game. That’s tough!'},\n",
       " {'speaker': 'Guest (Alex)',\n",
       "  'text': 'Injuries are the real enemy! But the Steelers showed their strength today!'},\n",
       " {'speaker': 'Host (Ava)',\n",
       "  'text': 'What a game, folks! This rivalry is heating up!'},\n",
       " {'speaker': 'Guest (Alex)',\n",
       "  'text': 'Can’t wait for the next matchup! Who knows what will happen?'},\n",
       " {'speaker': 'Host (Ava)',\n",
       "  'text': 'Stay tuned, sports fans! This rivalry is far from over!'},\n",
       " {'speaker': 'Guest (Alex)',\n",
       "  'text': 'And don’t miss our next episode for more thrilling action!'},\n",
       " {'speaker': 'Host (Ava)',\n",
       "  'text': 'Catch you next time on SportsCenter Showdown!'}]"
      ]
     },
     "execution_count": 9,
     "metadata": {},
     "output_type": "execute_result"
    }
   ],
   "source": [
    "import json\n",
    "\n",
    "with open(\"game-recap-script.json\",\"r\") as f:\n",
    "    jsfile = f.read()\n",
    "\n",
    "conversation = json.loads(jsfile)\n",
    "conversation"
   ]
  },
  {
   "cell_type": "markdown",
   "metadata": {},
   "source": [
    "## HD Options\n",
    "\n",
    "Default [temparature parameter](https://learn.microsoft.com/en-us/azure/ai-services/speech-service/high-definition-voices#how-to-use-azure-ai-speech-hd-voices) is 1.0\n",
    "\n",
    "```\n",
    "<voice name='en-us-Andrew2:DragonHDLatestNeural' parameters='temperature=0.1'>저도 감사합니다, 제인님. 다음에 또 뵙길 바랍니다.</voice>\n",
    "```"
   ]
  },
  {
   "cell_type": "code",
   "execution_count": null,
   "metadata": {},
   "outputs": [],
   "source": [
    "def generate_ssml(host_voice, guest_voice):\n",
    "    \n",
    "    ssml = \"<speak version='1.0' xmlns='http://www.w3.org/2001/10/synthesis' xmlns:mstts='https://www.w3.org/2001/mstts' xml:lang='en-US'>\"\n",
    "    for r in conversation:\n",
    "        #print(row.to_dict())\n",
    "        \n",
    "        if r['speaker'] == 'Host (Ava)':\n",
    "            ssml += f\"\\n<voice name='{host_voice}'>{r['text']}</voice>\"\n",
    "        else:\n",
    "            ssml += f\"\\n<voice name='{guest_voice}'>{r['text']}</voice>\"\n",
    "    ssml += \"\\n</speak>\"\n",
    "\n",
    "    #print(ssml)\n",
    "\n",
    "    return ssml"
   ]
  },
  {
   "cell_type": "code",
   "execution_count": 4,
   "metadata": {},
   "outputs": [],
   "source": [
    "import azure.cognitiveservices.speech as speechsdk\n",
    "import os\n",
    "speech_key = os.getenv('SPEECH_KEY')\n",
    "service_region = os.getenv('SPEECH_REGION')\n",
    "speech_config = speechsdk.SpeechConfig(subscription=speech_key, region=service_region)"
   ]
  },
  {
   "cell_type": "code",
   "execution_count": 5,
   "metadata": {},
   "outputs": [],
   "source": [
    "import random\n",
    "import string\n",
    "\n",
    "def generate_random_filename(length=8):\n",
    "    letters = string.ascii_lowercase\n",
    "    return ''.join(random.choice(letters) for i in range(length))\n",
    "\n",
    "def generate_podcast(ssml, filename=None):\n",
    "    if filename is None:\n",
    "        temporary_file= \"./\" + generate_random_filename() + \".wav\"\n",
    "    else:\n",
    "        temporary_file = filename\n",
    "        \n",
    "    audio_output = speechsdk.audio.AudioOutputConfig(filename=temporary_file)\n",
    "\n",
    "    # Creates a speech synthesizer using the Azure Speech Service.\n",
    "    speech_synthesizer = speechsdk.SpeechSynthesizer(speech_config=speech_config, audio_config=audio_output)\n",
    "    result = speech_synthesizer.speak_ssml_async(ssml).get()\n",
    "    if result.reason == speechsdk.ResultReason.SynthesizingAudioCompleted:\n",
    "        print(\"Speech synthesis was successful. Audio was written to '{}'\".format(temporary_file))\n",
    "    elif result.reason == speechsdk.ResultReason.Canceled:\n",
    "        cancellation_details = result.cancellation_details\n",
    "        print(\"Speech synthesis canceled: {}\".format(cancellation_details.reason))\n",
    "        if cancellation_details.reason == speechsdk.CancellationReason.Error:\n",
    "            if cancellation_details.error_details:\n",
    "                print(\"Error details: {}\".format(cancellation_details.error_details))\n",
    "        print(\"Did you update the subscription info?\")"
   ]
  },
  {
   "cell_type": "code",
   "execution_count": 6,
   "metadata": {},
   "outputs": [],
   "source": [
    "# HD voice\n",
    "host_voice = 'en-us-Ava:DragonHDLatestNeural'\n",
    "guest_voice = 'en-us-Andrew2:DragonHDLatestNeural'\n"
   ]
  },
  {
   "cell_type": "code",
   "execution_count": 7,
   "metadata": {},
   "outputs": [
    {
     "name": "stdout",
     "output_type": "stream",
     "text": [
      "Speech synthesis was successful. Audio was written to 'game_recap_clip.wav'\n",
      "Info: on_underlying_io_bytes_received: Close frame received\n",
      "Info: on_underlying_io_bytes_received: closing underlying io.\n",
      "Info: on_underlying_io_close_complete: uws_state: 6.\n"
     ]
    }
   ],
   "source": [
    "temp = 0.9\n",
    "ssml = generate_ssml(host_voice, guest_voice)\n",
    "generate_podcast(ssml, \"game_recap_clip.wav\")"
   ]
  },
  {
   "cell_type": "code",
   "execution_count": null,
   "metadata": {},
   "outputs": [],
   "source": [
    "# Non-HD voice\n",
    "#host_voice = \"ko-KR-SunHiNeural\"\n",
    "#guest_voice = \"ko-KR-InJoonNeural\""
   ]
  }
 ],
 "metadata": {
  "kernelspec": {
   "display_name": ".venv",
   "language": "python",
   "name": "python3"
  },
  "language_info": {
   "codemirror_mode": {
    "name": "ipython",
    "version": 3
   },
   "file_extension": ".py",
   "mimetype": "text/x-python",
   "name": "python",
   "nbconvert_exporter": "python",
   "pygments_lexer": "ipython3",
   "version": "3.13.2"
  }
 },
 "nbformat": 4,
 "nbformat_minor": 2
}
