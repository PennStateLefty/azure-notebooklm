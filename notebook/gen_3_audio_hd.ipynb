{
 "cells": [
  {
   "cell_type": "markdown",
   "metadata": {},
   "source": [
    "# 3. Generate Audio (HD Voice)\n",
    "\n",
    "https://learn.microsoft.com/en-us/azure/ai-services/speech-service/high-definition-voices"
   ]
  },
  {
   "cell_type": "code",
   "execution_count": 1,
   "metadata": {},
   "outputs": [
    {
     "data": {
      "text/plain": [
       "True"
      ]
     },
     "execution_count": 1,
     "metadata": {},
     "output_type": "execute_result"
    }
   ],
   "source": [
    "from dotenv import load_dotenv\n",
    "load_dotenv()"
   ]
  },
  {
   "cell_type": "code",
   "execution_count": 2,
   "metadata": {},
   "outputs": [
    {
     "data": {
      "text/plain": [
       "[{'speaker': 'Host (Jane)', 'text': '안녕하세요, 여러분. 오늘은 핵융합 에너지를 이야기해볼게요.'},\n",
       " {'speaker': 'Guest', 'text': '안녕하세요, 김범석입니다. 초대해 주셔서 감사합니다.'},\n",
       " {'speaker': 'Host (Jane)', 'text': '김 박사님, K-DEMO 프로젝트에 대해 좀 더 알려주세요.'},\n",
       " {'speaker': 'Guest', 'text': '네, K-DEMO는 한국의 핵융합 데모 프로젝트입니다.'},\n",
       " {'speaker': 'Host (Jane)', 'text': '핵융합에서 방사능 관리가 왜 그렇게 중요할까요?'},\n",
       " {'speaker': 'Guest', 'text': '방사능은 안전과 폐기물 관리에 큰 영향을 미치죠.'},\n",
       " {'speaker': 'Host (Jane)', 'text': '그렇군요. 방사능 붕괴열이란 무엇인가요?'},\n",
       " {'speaker': 'Guest', 'text': '붕괴열은 반응 후에도 남아있는 열이에요. 뜨거운 스토브 같죠.'},\n",
       " {'speaker': 'Host (Jane)', 'text': '그 열을 어떻게 식히나요?'},\n",
       " {'speaker': 'Guest', 'text': '냉각 시스템으로 열을 식혀야 해요. 시간이 중요하죠.'},\n",
       " {'speaker': 'Host (Jane)', 'text': '냉각 시스템 설계에서 중요한 점은 무엇인가요?'},\n",
       " {'speaker': 'Guest', 'text': '열을 효과적으로 분산시키는 게 핵심입니다.'},\n",
       " {'speaker': 'Host (Jane)', 'text': 'K-DEMO의 냉각 시스템은 어떻게 설계되었나요?'},\n",
       " {'speaker': 'Guest', 'text': '물 냉각 세라믹 브리더 블랭킷을 사용합니다.'},\n",
       " {'speaker': 'Host (Jane)', 'text': '방사성 폐기물 관리는 어떻게 하나요?'},\n",
       " {'speaker': 'Guest', 'text': '규제에 따라 폐기물을 분류하고 처리합니다.'},\n",
       " {'speaker': 'Host (Jane)', 'text': '규제는 어떤 기준을 따르나요?'},\n",
       " {'speaker': 'Guest', 'text': '한국의 규제는 방사능 농도에 따라 폐기물을 분류합니다.'},\n",
       " {'speaker': 'Host (Jane)', 'text': '미래의 핵융합 에너지는 어떤 가능성을 가지고 있나요?'},\n",
       " {'speaker': 'Guest', 'text': '청정하고 지속 가능한 에너지원이 될 수 있습니다.'},\n",
       " {'speaker': 'Host (Jane)', 'text': '정말 흥미롭네요. 마지막으로 하고 싶은 말씀이 있으신가요?'},\n",
       " {'speaker': 'Guest', 'text': '핵융합은 미래 에너지의 중요한 부분이 될 것입니다.'},\n",
       " {'speaker': 'Host (Jane)', 'text': '오늘 함께해 주셔서 감사합니다, 김 박사님.'},\n",
       " {'speaker': 'Guest', 'text': '초대해 주셔서 감사합니다. 즐거운 시간이었습니다.'},\n",
       " {'speaker': 'Host (Jane)', 'text': '청취자 여러분, 다음 시간에 또 만나요. 감사합니다.'}]"
      ]
     },
     "execution_count": 2,
     "metadata": {},
     "output_type": "execute_result"
    }
   ],
   "source": [
    "import json\n",
    "\n",
    "with open(\"KFE_paper_sample_conversation.json\",\"r\") as f:\n",
    "    jsfile = f.read()\n",
    "\n",
    "conversation = json.loads(jsfile)\n",
    "conversation"
   ]
  },
  {
   "cell_type": "markdown",
   "metadata": {},
   "source": [
    "## HD Options\n",
    "\n",
    "Default [temparature parameter](https://learn.microsoft.com/en-us/azure/ai-services/speech-service/high-definition-voices#how-to-use-azure-ai-speech-hd-voices) is 1.0\n",
    "\n",
    "```\n",
    "<voice name='en-us-Andrew2:DragonHDLatestNeural' parameters='temperature=0.1'>저도 감사합니다, 제인님. 다음에 또 뵙길 바랍니다.</voice>\n",
    "```"
   ]
  },
  {
   "cell_type": "code",
   "execution_count": 3,
   "metadata": {},
   "outputs": [],
   "source": [
    "def generate_ssml(host_voice, guest_voice):\n",
    "    \n",
    "    ssml = \"<speak version='1.0' xmlns='http://www.w3.org/2001/10/synthesis' xmlns:mstts='https://www.w3.org/2001/mstts' xml:lang='en-US'>\"\n",
    "    for r in conversation:\n",
    "        #print(row.to_dict())\n",
    "        \n",
    "        if r['speaker'] == 'Host (Jane)':\n",
    "            ssml += f\"\\n<voice name='{host_voice}'>{r['text']}</voice>\"\n",
    "        else:\n",
    "            ssml += f\"\\n<voice name='{guest_voice}'>{r['text']}</voice>\"\n",
    "    ssml += \"\\n</speak>\"\n",
    "\n",
    "    #print(ssml)\n",
    "\n",
    "    return ssml"
   ]
  },
  {
   "cell_type": "code",
   "execution_count": 4,
   "metadata": {},
   "outputs": [],
   "source": [
    "import azure.cognitiveservices.speech as speechsdk\n",
    "import os\n",
    "speech_key = os.getenv('SPEECH_KEY')\n",
    "service_region = os.getenv('SPEECH_REGION')\n",
    "speech_config = speechsdk.SpeechConfig(subscription=speech_key, region=service_region)"
   ]
  },
  {
   "cell_type": "code",
   "execution_count": 5,
   "metadata": {},
   "outputs": [],
   "source": [
    "import random\n",
    "import string\n",
    "\n",
    "def generate_random_filename(length=8):\n",
    "    letters = string.ascii_lowercase\n",
    "    return ''.join(random.choice(letters) for i in range(length))\n",
    "\n",
    "def generate_podcast(ssml, filename=None):\n",
    "    if filename is None:\n",
    "        temporary_file= \"./\" + generate_random_filename() + \".wav\"\n",
    "    else:\n",
    "        temporary_file = filename\n",
    "        \n",
    "    audio_output = speechsdk.audio.AudioOutputConfig(filename=temporary_file)\n",
    "\n",
    "    # Creates a speech synthesizer using the Azure Speech Service.\n",
    "    speech_synthesizer = speechsdk.SpeechSynthesizer(speech_config=speech_config, audio_config=audio_output)\n",
    "    result = speech_synthesizer.speak_ssml_async(ssml).get()\n",
    "    if result.reason == speechsdk.ResultReason.SynthesizingAudioCompleted:\n",
    "        print(\"Speech synthesis was successful. Audio was written to '{}'\".format(temporary_file))\n",
    "    elif result.reason == speechsdk.ResultReason.Canceled:\n",
    "        cancellation_details = result.cancellation_details\n",
    "        print(\"Speech synthesis canceled: {}\".format(cancellation_details.reason))\n",
    "        if cancellation_details.reason == speechsdk.CancellationReason.Error:\n",
    "            if cancellation_details.error_details:\n",
    "                print(\"Error details: {}\".format(cancellation_details.error_details))\n",
    "        print(\"Did you update the subscription info?\")"
   ]
  },
  {
   "cell_type": "code",
   "execution_count": 6,
   "metadata": {},
   "outputs": [],
   "source": [
    "# HD voice\n",
    "host_voice = 'en-us-Ava:DragonHDLatestNeural'\n",
    "guest_voice = 'en-us-Andrew2:DragonHDLatestNeural'\n"
   ]
  },
  {
   "cell_type": "code",
   "execution_count": 7,
   "metadata": {},
   "outputs": [
    {
     "name": "stdout",
     "output_type": "stream",
     "text": [
      "Speech synthesis was successful. Audio was written to 'KFE_paper_sample_audio_hd.wav'\n"
     ]
    }
   ],
   "source": [
    "temp = 0.9\n",
    "ssml = generate_ssml(host_voice, guest_voice)\n",
    "generate_podcast(ssml, \"KFE_paper_sample_audio_hd.wav\")"
   ]
  },
  {
   "cell_type": "code",
   "execution_count": null,
   "metadata": {},
   "outputs": [],
   "source": [
    "# Non-HD voice\n",
    "#host_voice = \"ko-KR-SunHiNeural\"\n",
    "#guest_voice = \"ko-KR-InJoonNeural\""
   ]
  }
 ],
 "metadata": {
  "kernelspec": {
   "display_name": "anblm",
   "language": "python",
   "name": "python3"
  },
  "language_info": {
   "codemirror_mode": {
    "name": "ipython",
    "version": 3
   },
   "file_extension": ".py",
   "mimetype": "text/x-python",
   "name": "python",
   "nbconvert_exporter": "python",
   "pygments_lexer": "ipython3",
   "version": "3.10.15"
  }
 },
 "nbformat": 4,
 "nbformat_minor": 2
}
