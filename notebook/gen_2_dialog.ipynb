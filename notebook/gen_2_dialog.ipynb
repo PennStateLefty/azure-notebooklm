{
 "cells": [
  {
   "cell_type": "markdown",
   "metadata": {},
   "source": [
    "# 2. Generate Converation"
   ]
  },
  {
   "cell_type": "code",
   "execution_count": 1,
   "metadata": {},
   "outputs": [],
   "source": [
    "SYSTEM_PROMPT = \"\"\"\n",
    "You are a world-class podcast producer tasked with transforming the provided input text into an engaging and informative podcast script. The input may be unstructured or messy, sourced from PDFs or web pages. Your goal is to extract the most interesting and insightful content for a compelling podcast discussion.\n",
    "\n",
    "# Steps to Follow:\n",
    "\n",
    "1. **Analyze the Input:**\n",
    "   Carefully examine the text, identifying key topics, points, and interesting facts or anecdotes that could drive an engaging podcast conversation. Disregard irrelevant information or formatting issues.\n",
    "\n",
    "2. **Brainstorm Ideas:**\n",
    "   In the `<scratchpad>`, creatively brainstorm ways to present the key points engagingly. Consider:\n",
    "   - Analogies, storytelling techniques, or hypothetical scenarios to make content relatable\n",
    "   - Ways to make complex topics accessible to a general audience\n",
    "   - Thought-provoking questions to explore during the podcast\n",
    "   - Creative approaches to fill any gaps in the information\n",
    "\n",
    "3. **Craft the Dialogue:**\n",
    "   Develop a natural, conversational flow between the host (Jane) and the guest speaker (the author or an expert on the topic). Incorporate:\n",
    "   - The best ideas from your brainstorming session\n",
    "   - Clear explanations of complex topics\n",
    "   - An engaging and lively tone to captivate listeners\n",
    "   - A balance of information and entertainment\n",
    "\n",
    "   Rules for the dialogue:\n",
    "   - The host (Jane) always initiates the conversation and interviews the guest\n",
    "   - Include thoughtful questions from the host to guide the discussion\n",
    "   - Incorporate natural speech patterns, including occasional verbal fillers (e.g., \"um,\" \"well,\" \"you know\")\n",
    "   - Allow for natural interruptions and back-and-forth between host and guest\n",
    "   - Ensure the guest's responses are substantiated by the input text, avoiding unsupported claims\n",
    "   - Maintain a PG-rated conversation appropriate for all audiences\n",
    "   - Avoid any marketing or self-promotional content from the guest\n",
    "   - The host concludes the conversation\n",
    "\n",
    "4. **Summarize Key Insights:**\n",
    "   Naturally weave a summary of key points into the closing part of the dialogue. This should feel like a casual conversation rather than a formal recap, reinforcing the main takeaways before signing off.\n",
    "\n",
    "5. **Maintain Authenticity:**\n",
    "   Throughout the script, strive for authenticity in the conversation. Include:\n",
    "   - Moments of genuine curiosity or surprise from the host\n",
    "   - Instances where the guest might briefly struggle to articulate a complex idea\n",
    "   - Light-hearted moments or humor when appropriate\n",
    "   - Brief personal anecdotes or examples that relate to the topic (within the bounds of the input text)\n",
    "\n",
    "6. **Consider Pacing and Structure:**\n",
    "   Ensure the dialogue has a natural ebb and flow:\n",
    "   - Start with a strong hook to grab the listener's attention\n",
    "   - Gradually build complexity as the conversation progresses\n",
    "   - Include brief \"breather\" moments for listeners to absorb complex information\n",
    "   - End on a high note, perhaps with a thought-provoking question or a call-to-action for listeners\n",
    "\n",
    "IMPORTANT RULE: Each line of dialogue should be no more than 100 characters (e.g., can finish within 5-8 seconds)\n",
    "\n",
    "Remember: Always reply in valid JSON format, without code blocks. Begin directly with the JSON output.\n",
    "\"\"\""
   ]
  },
  {
   "cell_type": "code",
   "execution_count": 2,
   "metadata": {},
   "outputs": [],
   "source": [
    "from typing import Literal, List\n",
    "\n",
    "from pydantic import BaseModel, Field\n",
    "\n",
    "\n",
    "class DialogueItem(BaseModel):\n",
    "    \"\"\"A single dialogue item.\"\"\"\n",
    "\n",
    "    speaker: Literal[\"Host (Jane)\", \"Guest\"]\n",
    "    text: str\n",
    "\n",
    "class MediumDialogue(BaseModel):\n",
    "    \"\"\"The dialogue between the host and guest.\"\"\"\n",
    "\n",
    "    scratchpad: str\n",
    "    name_of_guest: str\n",
    "    dialogue: List[DialogueItem] = Field(\n",
    "        ..., description=\"A list of dialogue items, typically between 29 to 39 items\"\n",
    "    )"
   ]
  },
  {
   "cell_type": "code",
   "execution_count": 3,
   "metadata": {},
   "outputs": [],
   "source": [
    "with open(\"KFE_paper_sample_pdfreader.txt\", \"r\") as f:\n",
    "    input_text = f.read()"
   ]
  },
  {
   "cell_type": "code",
   "execution_count": 6,
   "metadata": {},
   "outputs": [],
   "source": [
    "from utils import call_llm\n",
    "\n",
    "modified_system_prompt = SYSTEM_PROMPT\n",
    "modified_system_prompt += \"\\n\\nAim for a moderate length, about 3-5 minutes.\"\n",
    "modified_system_prompt += \"\\n\\nOUTPUT LANGUAGE <IMPORTANT>: The the podcast should be Korean.\"\n",
    "\n",
    "# Call the LLM for the first time\n",
    "first_draft_dialogue = call_llm(modified_system_prompt, input_text, MediumDialogue)"
   ]
  },
  {
   "cell_type": "code",
   "execution_count": 10,
   "metadata": {},
   "outputs": [
    {
     "data": {
      "text/plain": [
       "{'id': 'chatcmpl-Ajc6BM0MJXdyEl0OdntnOngX2ToOi',\n",
       " 'choices': [{'finish_reason': 'stop',\n",
       "   'index': 0,\n",
       "   'logprobs': None,\n",
       "   'message': {'content': '{\"scratchpad\":\"- Discuss the importance of managing radioactivity in fusion reactors.\\\\n- Explain the concept of decay heat and its impact on reactor components.\\\\n- Use analogies to explain complex scientific concepts, like comparing decay heat to residual heat in a car engine.\\\\n- Discuss the design and safety considerations for K-DEMO.\\\\n- Explore the role of cooling systems in managing decay heat.\\\\n- Discuss the implications of radioactivity on waste management and disposal.\\\\n- Use storytelling to explain the process of handling radioactive waste.\\\\n- Discuss the future of fusion energy and its potential benefits.\",\"name_of_guest\":\"Beom Seok Kim\",\"dialogue\":[{\"speaker\":\"Host (Jane)\",\"text\":\"안녕하세요, 여러분. 오늘의 주제는 핵융합 에너지입니다.\"},{\"speaker\":\"Guest\",\"text\":\"안녕하세요, 저는 김범석입니다. K-DEMO 프로젝트에 대해 이야기하겠습니다.\"},{\"speaker\":\"Host (Jane)\",\"text\":\"K-DEMO는 어떤 프로젝트인가요?\"},{\"speaker\":\"Guest\",\"text\":\"K-DEMO는 한국의 핵융합 발전소 설계 프로젝트입니다.\"},{\"speaker\":\"Host (Jane)\",\"text\":\"핵융합 발전소에서 가장 큰 도전 과제는 무엇인가요?\"},{\"speaker\":\"Guest\",\"text\":\"주요 과제는 방사능 관리와 감쇠열 처리입니다.\"},{\"speaker\":\"Host (Jane)\",\"text\":\"감쇠열이란 무엇인가요?\"},{\"speaker\":\"Guest\",\"text\":\"감쇠열은 플라즈마 종료 후에도 남아있는 잔열입니다.\"},{\"speaker\":\"Host (Jane)\",\"text\":\"자동차 엔진의 잔열과 비슷한 건가요?\"},{\"speaker\":\"Guest\",\"text\":\"네, 맞습니다. 엔진이 꺼져도 열이 남아있는 것과 비슷합니다.\"},{\"speaker\":\"Host (Jane)\",\"text\":\"그렇다면, 감쇠열은 어떻게 관리하나요?\"},{\"speaker\":\"Guest\",\"text\":\"냉각 시스템을 통해 열을 효과적으로 분산시킵니다.\"},{\"speaker\":\"Host (Jane)\",\"text\":\"냉각 시스템은 어떻게 설계되나요?\"},{\"speaker\":\"Guest\",\"text\":\"자연 대류와 강제 대류를 조합하여 설계합니다.\"},{\"speaker\":\"Host (Jane)\",\"text\":\"방사능은 어떻게 처리하나요?\"},{\"speaker\":\"Guest\",\"text\":\"방사성 폐기물은 규제에 따라 분류하고 처리합니다.\"},{\"speaker\":\"Host (Jane)\",\"text\":\"폐기물 처리는 어떤 과정을 거치나요?\"},{\"speaker\":\"Guest\",\"text\":\"폐기물은 안전하게 포장되어 지정된 장소에 보관됩니다.\"},{\"speaker\":\"Host (Jane)\",\"text\":\"K-DEMO의 안전성은 어떻게 보장되나요?\"},{\"speaker\":\"Guest\",\"text\":\"안전성은 철저한 설계와 규제 준수를 통해 보장됩니다.\"},{\"speaker\":\"Host (Jane)\",\"text\":\"핵융합 에너지의 미래는 어떻게 보시나요?\"},{\"speaker\":\"Guest\",\"text\":\"핵융합은 청정하고 무한한 에너지원이 될 것입니다.\"},{\"speaker\":\"Host (Jane)\",\"text\":\"정말 흥미로운 주제네요. 마지막으로 하고 싶은 말씀이 있나요?\"},{\"speaker\":\"Guest\",\"text\":\"핵융합은 미래 에너지 문제 해결의 열쇠가 될 것입니다.\"},{\"speaker\":\"Host (Jane)\",\"text\":\"오늘 함께해 주셔서 감사합니다, 김범석 박사님.\"},{\"speaker\":\"Guest\",\"text\":\"초대해 주셔서 감사합니다.\"},{\"speaker\":\"Host (Jane)\",\"text\":\"청취자 여러분, 다음 시간에 또 만나요. 안녕히 계세요!\"}]}',\n",
       "    'refusal': None,\n",
       "    'role': 'assistant',\n",
       "    'tool_calls': [],\n",
       "    'parsed': {'scratchpad': '- Discuss the importance of managing radioactivity in fusion reactors.\\n- Explain the concept of decay heat and its impact on reactor components.\\n- Use analogies to explain complex scientific concepts, like comparing decay heat to residual heat in a car engine.\\n- Discuss the design and safety considerations for K-DEMO.\\n- Explore the role of cooling systems in managing decay heat.\\n- Discuss the implications of radioactivity on waste management and disposal.\\n- Use storytelling to explain the process of handling radioactive waste.\\n- Discuss the future of fusion energy and its potential benefits.',\n",
       "     'name_of_guest': 'Beom Seok Kim',\n",
       "     'dialogue': [{'speaker': 'Host (Jane)',\n",
       "       'text': '안녕하세요, 여러분. 오늘의 주제는 핵융합 에너지입니다.'},\n",
       "      {'speaker': 'Guest',\n",
       "       'text': '안녕하세요, 저는 김범석입니다. K-DEMO 프로젝트에 대해 이야기하겠습니다.'},\n",
       "      {'speaker': 'Host (Jane)', 'text': 'K-DEMO는 어떤 프로젝트인가요?'},\n",
       "      {'speaker': 'Guest', 'text': 'K-DEMO는 한국의 핵융합 발전소 설계 프로젝트입니다.'},\n",
       "      {'speaker': 'Host (Jane)', 'text': '핵융합 발전소에서 가장 큰 도전 과제는 무엇인가요?'},\n",
       "      {'speaker': 'Guest', 'text': '주요 과제는 방사능 관리와 감쇠열 처리입니다.'},\n",
       "      {'speaker': 'Host (Jane)', 'text': '감쇠열이란 무엇인가요?'},\n",
       "      {'speaker': 'Guest', 'text': '감쇠열은 플라즈마 종료 후에도 남아있는 잔열입니다.'},\n",
       "      {'speaker': 'Host (Jane)', 'text': '자동차 엔진의 잔열과 비슷한 건가요?'},\n",
       "      {'speaker': 'Guest', 'text': '네, 맞습니다. 엔진이 꺼져도 열이 남아있는 것과 비슷합니다.'},\n",
       "      {'speaker': 'Host (Jane)', 'text': '그렇다면, 감쇠열은 어떻게 관리하나요?'},\n",
       "      {'speaker': 'Guest', 'text': '냉각 시스템을 통해 열을 효과적으로 분산시킵니다.'},\n",
       "      {'speaker': 'Host (Jane)', 'text': '냉각 시스템은 어떻게 설계되나요?'},\n",
       "      {'speaker': 'Guest', 'text': '자연 대류와 강제 대류를 조합하여 설계합니다.'},\n",
       "      {'speaker': 'Host (Jane)', 'text': '방사능은 어떻게 처리하나요?'},\n",
       "      {'speaker': 'Guest', 'text': '방사성 폐기물은 규제에 따라 분류하고 처리합니다.'},\n",
       "      {'speaker': 'Host (Jane)', 'text': '폐기물 처리는 어떤 과정을 거치나요?'},\n",
       "      {'speaker': 'Guest', 'text': '폐기물은 안전하게 포장되어 지정된 장소에 보관됩니다.'},\n",
       "      {'speaker': 'Host (Jane)', 'text': 'K-DEMO의 안전성은 어떻게 보장되나요?'},\n",
       "      {'speaker': 'Guest', 'text': '안전성은 철저한 설계와 규제 준수를 통해 보장됩니다.'},\n",
       "      {'speaker': 'Host (Jane)', 'text': '핵융합 에너지의 미래는 어떻게 보시나요?'},\n",
       "      {'speaker': 'Guest', 'text': '핵융합은 청정하고 무한한 에너지원이 될 것입니다.'},\n",
       "      {'speaker': 'Host (Jane)', 'text': '정말 흥미로운 주제네요. 마지막으로 하고 싶은 말씀이 있나요?'},\n",
       "      {'speaker': 'Guest', 'text': '핵융합은 미래 에너지 문제 해결의 열쇠가 될 것입니다.'},\n",
       "      {'speaker': 'Host (Jane)', 'text': '오늘 함께해 주셔서 감사합니다, 김범석 박사님.'},\n",
       "      {'speaker': 'Guest', 'text': '초대해 주셔서 감사합니다.'},\n",
       "      {'speaker': 'Host (Jane)', 'text': '청취자 여러분, 다음 시간에 또 만나요. 안녕히 계세요!'}]}},\n",
       "   'content_filter_results': {'hate': {'filtered': False, 'severity': 'safe'},\n",
       "    'self_harm': {'filtered': False, 'severity': 'safe'},\n",
       "    'sexual': {'filtered': False, 'severity': 'safe'},\n",
       "    'violence': {'filtered': False, 'severity': 'safe'}}}],\n",
       " 'created': 1735434575,\n",
       " 'model': 'gpt-4o-2024-08-06',\n",
       " 'object': 'chat.completion',\n",
       " 'system_fingerprint': 'fp_f3927aa00d',\n",
       " 'usage': {'completion_tokens': 788,\n",
       "  'prompt_tokens': 6279,\n",
       "  'total_tokens': 7067,\n",
       "  'completion_tokens_details': {'audio_tokens': 0,\n",
       "   'reasoning_tokens': 0,\n",
       "   'accepted_prediction_tokens': 0,\n",
       "   'rejected_prediction_tokens': 0},\n",
       "  'prompt_tokens_details': {'audio_tokens': 0, 'cached_tokens': 0}},\n",
       " 'prompt_filter_results': [{'prompt_index': 0,\n",
       "   'content_filter_results': {'hate': {'filtered': False, 'severity': 'safe'},\n",
       "    'jailbreak': {'filtered': False, 'detected': False},\n",
       "    'self_harm': {'filtered': False, 'severity': 'safe'},\n",
       "    'sexual': {'filtered': False, 'severity': 'safe'},\n",
       "    'violence': {'filtered': False, 'severity': 'safe'}}}]}"
      ]
     },
     "execution_count": 10,
     "metadata": {},
     "output_type": "execute_result"
    }
   ],
   "source": [
    "first_draft_dialogue.to_dict()"
   ]
  },
  {
   "cell_type": "code",
   "execution_count": 7,
   "metadata": {},
   "outputs": [],
   "source": [
    "# Call the LLM a second time to improve the dialogue\n",
    "system_prompt_with_dialogue = f\"{modified_system_prompt}\\n\\nHere is the first draft of the dialogue you provided:\\n\\n{first_draft_dialogue.model_dump_json()}.\"\n",
    "final_dialogue = call_llm(system_prompt_with_dialogue, \"Please improve the dialogue. Make it more natural and engaging.\", MediumDialogue)"
   ]
  },
  {
   "cell_type": "code",
   "execution_count": 8,
   "metadata": {},
   "outputs": [
    {
     "data": {
      "text/plain": [
       "{'id': 'chatcmpl-Al8XOwAWFMMtXl3JV26caM3sfMAyn',\n",
       " 'choices': [{'finish_reason': 'stop',\n",
       "   'index': 0,\n",
       "   'logprobs': None,\n",
       "   'message': {'content': '{\"scratchpad\":\"- Discuss the importance of managing radioactivity in fusion reactors.\\\\n- Explain the concept of decay heat and its implications.\\\\n- Use analogies to explain complex concepts, like comparing decay heat to residual heat from a hot stove.\\\\n- Discuss the design and safety considerations for K-DEMO.\\\\n- Explore the challenges of cooling systems in fusion reactors.\\\\n- Discuss the regulatory aspects of radioactive waste management.\\\\n- Use a hypothetical scenario to explain the cooling process.\\\\n- Discuss the future of fusion energy and its potential benefits.\",\"name_of_guest\":\"Beom Seok Kim\",\"dialogue\":[{\"speaker\":\"Host (Jane)\",\"text\":\"안녕하세요, 여러분. 오늘은 핵융합 에너지를 이야기해볼게요.\"},{\"speaker\":\"Guest\",\"text\":\"안녕하세요, 김범석입니다. 초대해 주셔서 감사합니다.\"},{\"speaker\":\"Host (Jane)\",\"text\":\"김 박사님, K-DEMO 프로젝트에 대해 좀 더 알려주세요.\"},{\"speaker\":\"Guest\",\"text\":\"네, K-DEMO는 한국의 핵융합 데모 프로젝트입니다.\"},{\"speaker\":\"Host (Jane)\",\"text\":\"핵융합에서 방사능 관리가 왜 그렇게 중요할까요?\"},{\"speaker\":\"Guest\",\"text\":\"방사능은 안전과 폐기물 관리에 큰 영향을 미치죠.\"},{\"speaker\":\"Host (Jane)\",\"text\":\"그렇군요. 방사능 붕괴열이란 무엇인가요?\"},{\"speaker\":\"Guest\",\"text\":\"붕괴열은 반응 후에도 남아있는 열이에요. 뜨거운 스토브 같죠.\"},{\"speaker\":\"Host (Jane)\",\"text\":\"그 열을 어떻게 식히나요?\"},{\"speaker\":\"Guest\",\"text\":\"냉각 시스템으로 열을 식혀야 해요. 시간이 중요하죠.\"},{\"speaker\":\"Host (Jane)\",\"text\":\"냉각 시스템 설계에서 중요한 점은 무엇인가요?\"},{\"speaker\":\"Guest\",\"text\":\"열을 효과적으로 분산시키는 게 핵심입니다.\"},{\"speaker\":\"Host (Jane)\",\"text\":\"K-DEMO의 냉각 시스템은 어떻게 설계되었나요?\"},{\"speaker\":\"Guest\",\"text\":\"물 냉각 세라믹 브리더 블랭킷을 사용합니다.\"},{\"speaker\":\"Host (Jane)\",\"text\":\"방사성 폐기물 관리는 어떻게 하나요?\"},{\"speaker\":\"Guest\",\"text\":\"규제에 따라 폐기물을 분류하고 처리합니다.\"},{\"speaker\":\"Host (Jane)\",\"text\":\"규제는 어떤 기준을 따르나요?\"},{\"speaker\":\"Guest\",\"text\":\"한국의 규제는 방사능 농도에 따라 폐기물을 분류합니다.\"},{\"speaker\":\"Host (Jane)\",\"text\":\"미래의 핵융합 에너지는 어떤 가능성을 가지고 있나요?\"},{\"speaker\":\"Guest\",\"text\":\"청정하고 지속 가능한 에너지원이 될 수 있습니다.\"},{\"speaker\":\"Host (Jane)\",\"text\":\"정말 흥미롭네요. 마지막으로 하고 싶은 말씀이 있으신가요?\"},{\"speaker\":\"Guest\",\"text\":\"핵융합은 미래 에너지의 중요한 부분이 될 것입니다.\"},{\"speaker\":\"Host (Jane)\",\"text\":\"오늘 함께해 주셔서 감사합니다, 김 박사님.\"},{\"speaker\":\"Guest\",\"text\":\"초대해 주셔서 감사합니다. 즐거운 시간이었습니다.\"},{\"speaker\":\"Host (Jane)\",\"text\":\"청취자 여러분, 다음 시간에 또 만나요. 감사합니다.\"}]}',\n",
       "    'role': 'assistant',\n",
       "    'tool_calls': [],\n",
       "    'parsed': {'scratchpad': '- Discuss the importance of managing radioactivity in fusion reactors.\\n- Explain the concept of decay heat and its implications.\\n- Use analogies to explain complex concepts, like comparing decay heat to residual heat from a hot stove.\\n- Discuss the design and safety considerations for K-DEMO.\\n- Explore the challenges of cooling systems in fusion reactors.\\n- Discuss the regulatory aspects of radioactive waste management.\\n- Use a hypothetical scenario to explain the cooling process.\\n- Discuss the future of fusion energy and its potential benefits.',\n",
       "     'name_of_guest': 'Beom Seok Kim',\n",
       "     'dialogue': [{'speaker': 'Host (Jane)',\n",
       "       'text': '안녕하세요, 여러분. 오늘은 핵융합 에너지를 이야기해볼게요.'},\n",
       "      {'speaker': 'Guest', 'text': '안녕하세요, 김범석입니다. 초대해 주셔서 감사합니다.'},\n",
       "      {'speaker': 'Host (Jane)', 'text': '김 박사님, K-DEMO 프로젝트에 대해 좀 더 알려주세요.'},\n",
       "      {'speaker': 'Guest', 'text': '네, K-DEMO는 한국의 핵융합 데모 프로젝트입니다.'},\n",
       "      {'speaker': 'Host (Jane)', 'text': '핵융합에서 방사능 관리가 왜 그렇게 중요할까요?'},\n",
       "      {'speaker': 'Guest', 'text': '방사능은 안전과 폐기물 관리에 큰 영향을 미치죠.'},\n",
       "      {'speaker': 'Host (Jane)', 'text': '그렇군요. 방사능 붕괴열이란 무엇인가요?'},\n",
       "      {'speaker': 'Guest', 'text': '붕괴열은 반응 후에도 남아있는 열이에요. 뜨거운 스토브 같죠.'},\n",
       "      {'speaker': 'Host (Jane)', 'text': '그 열을 어떻게 식히나요?'},\n",
       "      {'speaker': 'Guest', 'text': '냉각 시스템으로 열을 식혀야 해요. 시간이 중요하죠.'},\n",
       "      {'speaker': 'Host (Jane)', 'text': '냉각 시스템 설계에서 중요한 점은 무엇인가요?'},\n",
       "      {'speaker': 'Guest', 'text': '열을 효과적으로 분산시키는 게 핵심입니다.'},\n",
       "      {'speaker': 'Host (Jane)', 'text': 'K-DEMO의 냉각 시스템은 어떻게 설계되었나요?'},\n",
       "      {'speaker': 'Guest', 'text': '물 냉각 세라믹 브리더 블랭킷을 사용합니다.'},\n",
       "      {'speaker': 'Host (Jane)', 'text': '방사성 폐기물 관리는 어떻게 하나요?'},\n",
       "      {'speaker': 'Guest', 'text': '규제에 따라 폐기물을 분류하고 처리합니다.'},\n",
       "      {'speaker': 'Host (Jane)', 'text': '규제는 어떤 기준을 따르나요?'},\n",
       "      {'speaker': 'Guest', 'text': '한국의 규제는 방사능 농도에 따라 폐기물을 분류합니다.'},\n",
       "      {'speaker': 'Host (Jane)', 'text': '미래의 핵융합 에너지는 어떤 가능성을 가지고 있나요?'},\n",
       "      {'speaker': 'Guest', 'text': '청정하고 지속 가능한 에너지원이 될 수 있습니다.'},\n",
       "      {'speaker': 'Host (Jane)', 'text': '정말 흥미롭네요. 마지막으로 하고 싶은 말씀이 있으신가요?'},\n",
       "      {'speaker': 'Guest', 'text': '핵융합은 미래 에너지의 중요한 부분이 될 것입니다.'},\n",
       "      {'speaker': 'Host (Jane)', 'text': '오늘 함께해 주셔서 감사합니다, 김 박사님.'},\n",
       "      {'speaker': 'Guest', 'text': '초대해 주셔서 감사합니다. 즐거운 시간이었습니다.'},\n",
       "      {'speaker': 'Host (Jane)', 'text': '청취자 여러분, 다음 시간에 또 만나요. 감사합니다.'}]}},\n",
       "   'content_filter_results': {'hate': {'filtered': False, 'severity': 'safe'},\n",
       "    'protected_material_code': {'filtered': False, 'detected': False},\n",
       "    'protected_material_text': {'filtered': False, 'detected': False},\n",
       "    'self_harm': {'filtered': False, 'severity': 'safe'},\n",
       "    'sexual': {'filtered': False, 'severity': 'safe'},\n",
       "    'violence': {'filtered': False, 'severity': 'safe'}}}],\n",
       " 'created': 1735797598,\n",
       " 'model': 'gpt-4o-2024-08-06',\n",
       " 'object': 'chat.completion',\n",
       " 'system_fingerprint': 'fp_04751d0b65',\n",
       " 'usage': {'completion_tokens': 732,\n",
       "  'prompt_tokens': 2735,\n",
       "  'total_tokens': 3467},\n",
       " 'prompt_filter_results': [{'prompt_index': 0,\n",
       "   'content_filter_results': {'hate': {'filtered': False, 'severity': 'safe'},\n",
       "    'jailbreak': {'filtered': False, 'detected': False},\n",
       "    'self_harm': {'filtered': False, 'severity': 'safe'},\n",
       "    'sexual': {'filtered': False, 'severity': 'safe'},\n",
       "    'violence': {'filtered': False, 'severity': 'safe'}}}]}"
      ]
     },
     "execution_count": 8,
     "metadata": {},
     "output_type": "execute_result"
    }
   ],
   "source": [
    "final_dialogue.to_dict()"
   ]
  },
  {
   "cell_type": "code",
   "execution_count": 9,
   "metadata": {},
   "outputs": [
    {
     "data": {
      "text/plain": [
       "[{'speaker': 'Host (Jane)', 'text': '안녕하세요, 여러분. 오늘은 핵융합 에너지를 이야기해볼게요.'},\n",
       " {'speaker': 'Guest', 'text': '안녕하세요, 김범석입니다. 초대해 주셔서 감사합니다.'},\n",
       " {'speaker': 'Host (Jane)', 'text': '김 박사님, K-DEMO 프로젝트에 대해 좀 더 알려주세요.'},\n",
       " {'speaker': 'Guest', 'text': '네, K-DEMO는 한국의 핵융합 데모 프로젝트입니다.'},\n",
       " {'speaker': 'Host (Jane)', 'text': '핵융합에서 방사능 관리가 왜 그렇게 중요할까요?'},\n",
       " {'speaker': 'Guest', 'text': '방사능은 안전과 폐기물 관리에 큰 영향을 미치죠.'},\n",
       " {'speaker': 'Host (Jane)', 'text': '그렇군요. 방사능 붕괴열이란 무엇인가요?'},\n",
       " {'speaker': 'Guest', 'text': '붕괴열은 반응 후에도 남아있는 열이에요. 뜨거운 스토브 같죠.'},\n",
       " {'speaker': 'Host (Jane)', 'text': '그 열을 어떻게 식히나요?'},\n",
       " {'speaker': 'Guest', 'text': '냉각 시스템으로 열을 식혀야 해요. 시간이 중요하죠.'},\n",
       " {'speaker': 'Host (Jane)', 'text': '냉각 시스템 설계에서 중요한 점은 무엇인가요?'},\n",
       " {'speaker': 'Guest', 'text': '열을 효과적으로 분산시키는 게 핵심입니다.'},\n",
       " {'speaker': 'Host (Jane)', 'text': 'K-DEMO의 냉각 시스템은 어떻게 설계되었나요?'},\n",
       " {'speaker': 'Guest', 'text': '물 냉각 세라믹 브리더 블랭킷을 사용합니다.'},\n",
       " {'speaker': 'Host (Jane)', 'text': '방사성 폐기물 관리는 어떻게 하나요?'},\n",
       " {'speaker': 'Guest', 'text': '규제에 따라 폐기물을 분류하고 처리합니다.'},\n",
       " {'speaker': 'Host (Jane)', 'text': '규제는 어떤 기준을 따르나요?'},\n",
       " {'speaker': 'Guest', 'text': '한국의 규제는 방사능 농도에 따라 폐기물을 분류합니다.'},\n",
       " {'speaker': 'Host (Jane)', 'text': '미래의 핵융합 에너지는 어떤 가능성을 가지고 있나요?'},\n",
       " {'speaker': 'Guest', 'text': '청정하고 지속 가능한 에너지원이 될 수 있습니다.'},\n",
       " {'speaker': 'Host (Jane)', 'text': '정말 흥미롭네요. 마지막으로 하고 싶은 말씀이 있으신가요?'},\n",
       " {'speaker': 'Guest', 'text': '핵융합은 미래 에너지의 중요한 부분이 될 것입니다.'},\n",
       " {'speaker': 'Host (Jane)', 'text': '오늘 함께해 주셔서 감사합니다, 김 박사님.'},\n",
       " {'speaker': 'Guest', 'text': '초대해 주셔서 감사합니다. 즐거운 시간이었습니다.'},\n",
       " {'speaker': 'Host (Jane)', 'text': '청취자 여러분, 다음 시간에 또 만나요. 감사합니다.'}]"
      ]
     },
     "execution_count": 9,
     "metadata": {},
     "output_type": "execute_result"
    }
   ],
   "source": [
    "import json\n",
    "result = json.loads(final_dialogue.choices[0].message.content)\n",
    "result[\"dialogue\"]"
   ]
  },
  {
   "cell_type": "code",
   "execution_count": 10,
   "metadata": {},
   "outputs": [],
   "source": [
    "\n",
    "with open(\"KFE_paper_sample_conversation.json\", \"w\") as f:\n",
    "    f.write(json.dumps(result[\"dialogue\"], indent=4, ensure_ascii=False))"
   ]
  },
  {
   "cell_type": "code",
   "execution_count": null,
   "metadata": {},
   "outputs": [],
   "source": []
  }
 ],
 "metadata": {
  "kernelspec": {
   "display_name": "anblm",
   "language": "python",
   "name": "python3"
  },
  "language_info": {
   "codemirror_mode": {
    "name": "ipython",
    "version": 3
   },
   "file_extension": ".py",
   "mimetype": "text/x-python",
   "name": "python",
   "nbconvert_exporter": "python",
   "pygments_lexer": "ipython3",
   "version": "3.10.15"
  }
 },
 "nbformat": 4,
 "nbformat_minor": 2
}
