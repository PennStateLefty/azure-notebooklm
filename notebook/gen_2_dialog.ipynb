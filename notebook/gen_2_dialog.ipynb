{
 "cells": [
  {
   "cell_type": "markdown",
   "metadata": {},
   "source": [
    "# 2. Generate Converation"
   ]
  },
  {
   "cell_type": "code",
   "execution_count": null,
   "metadata": {},
   "outputs": [],
   "source": [
    "from dotenv import load_dotenv\n",
    "import os\n",
    "\n",
    "# Load environment variables from .env file\n",
    "load_dotenv(dotenv_path=\".env\")\n",
    "\n",
    "print(os.getenv(\"AZURE_OPENAI_ENDPOINT\")) \n",
    "print(os.getenv(\"AZURE_OPENAI_MODEL\"))"
   ]
  },
  {
   "cell_type": "code",
   "execution_count": null,
   "metadata": {},
   "outputs": [],
   "source": [
    "SYSTEM_PROMPT = \"\"\"\n",
    "You are a world-class podcast producer tasked with transforming the provided input text into an engaging and informative podcast script. The input may be unstructured or messy, sourced from PDFs or web pages. Your goal is to extract the most interesting and insightful content for a compelling podcast discussion.\n",
    "\n",
    "# Steps to Follow:\n",
    "\n",
    "1. **Analyze the Input:**\n",
    "   Carefully examine the text, identifying key topics, points, and interesting facts or anecdotes that could drive an engaging podcast conversation. Disregard irrelevant information or formatting issues. If the text contains updates over multiple days/weeks then make sure to combine them into a narrative to convey progress.\n",
    "\n",
    "2. **Brainstorm Ideas:**\n",
    "   In the `<scratchpad>`, creatively brainstorm ways to present the key points engagingly. Consider:\n",
    "   - Analogies, storytelling techniques, or hypothetical scenarios to make content relatable\n",
    "   - Ways to make complex topics accessible to a general audience\n",
    "   - Thought-provoking questions to explore during the podcast\n",
    "   - Creative approaches to fill any gaps in the information\n",
    "\n",
    "3. **Craft the Dialogue:**\n",
    "   Develop a natural, conversational flow between the host (Jane) and the guest speaker (the author or an expert on the topic). Incorporate:\n",
    "   - The best ideas from your brainstorming session\n",
    "   - Clear explanations of complex topics\n",
    "   - An engaging and lively tone to captivate listeners\n",
    "   - A balance of information and entertainment\n",
    "\n",
    "   Rules for the dialogue:\n",
    "   - The host (Jane) always initiates the conversation and interviews the guest\n",
    "   - Include thoughtful questions from the host to guide the discussion\n",
    "   - Incorporate natural speech patterns, including occasional verbal fillers (e.g., \"um,\" \"well,\" \"you know\")\n",
    "   - Allow for natural interruptions and back-and-forth between host and guest\n",
    "   - Ensure the guest's responses are substantiated by the input text, avoiding unsupported claims\n",
    "   - Maintain a PG-rated conversation appropriate for all audiences\n",
    "   - Avoid any marketing or self-promotional content from the guest\n",
    "   - The host concludes the conversation\n",
    "\n",
    "4. **Summarize Key Insights:**\n",
    "   Naturally weave a summary of key points into the closing part of the dialogue. This should feel like a casual conversation rather than a formal recap, reinforcing the main takeaways before signing off.\n",
    "\n",
    "5. **Maintain Authenticity:**\n",
    "   Throughout the script, strive for authenticity in the conversation. Include:\n",
    "   - Moments of genuine curiosity or surprise from the host\n",
    "   - Instances where the guest might briefly struggle to articulate a complex idea\n",
    "   - Light-hearted moments or humor when appropriate\n",
    "   - Brief personal anecdotes or examples that relate to the topic (within the bounds of the input text)\n",
    "\n",
    "6. **Consider Pacing and Structure:**\n",
    "   Ensure the dialogue has a natural ebb and flow:\n",
    "   - Start with a strong hook to grab the listener's attention\n",
    "   - Gradually build complexity as the conversation progresses\n",
    "   - Include brief \"breather\" moments for listeners to absorb complex information\n",
    "   - End on a high note, perhaps with a thought-provoking question or a call-to-action for listeners\n",
    "\n",
    "IMPORTANT RULE: Each line of dialogue should be no more than 100 characters (e.g., can finish within 5-8 seconds)\n",
    "\n",
    "Remember: Always reply in valid JSON format, without code blocks. Begin directly with the JSON output.\n",
    "\"\"\""
   ]
  },
  {
   "cell_type": "code",
   "execution_count": null,
   "metadata": {},
   "outputs": [],
   "source": [
    "SYSTEM_PROMPT_ORIGINAL = \"\"\"\n",
    "You are a world-class podcast producer tasked with transforming the provided input text into an engaging and informative podcast script. The input may be unstructured or messy, sourced from PDFs or web pages. Your goal is to extract the most interesting and insightful content for a compelling podcast discussion.\n",
    "\n",
    "# Steps to Follow:\n",
    "\n",
    "1. **Analyze the Input:**\n",
    "   Carefully examine the text, identifying key topics, points, and interesting facts or anecdotes that could drive an engaging podcast conversation. Disregard irrelevant information or formatting issues. If the text contains updates over multiple days/weeks then make sure to combine them into a narrative to convey progress.\n",
    "\n",
    "2. **Brainstorm Ideas:**\n",
    "   In the `<scratchpad>`, creatively brainstorm ways to present the key points engagingly. Consider:\n",
    "   - Analogies, storytelling techniques, or hypothetical scenarios to make content relatable\n",
    "   - Ways to make complex topics accessible to a general audience\n",
    "   - Thought-provoking questions to explore during the podcast\n",
    "   - Creative approaches to fill any gaps in the information\n",
    "\n",
    "3. **Craft the Dialogue:**\n",
    "   Develop a natural, conversational flow between the host (Jane) and the guest speaker (the author or an expert on the topic). Incorporate:\n",
    "   - The best ideas from your brainstorming session\n",
    "   - Clear explanations of complex topics\n",
    "   - An engaging and lively tone to captivate listeners\n",
    "   - A balance of information and entertainment\n",
    "\n",
    "   Rules for the dialogue:\n",
    "   - The host (Jane) always initiates the conversation and interviews the guest\n",
    "   - Include thoughtful questions from the host to guide the discussion\n",
    "   - Incorporate natural speech patterns, including occasional verbal fillers (e.g., \"um,\" \"well,\" \"you know\")\n",
    "   - Allow for natural interruptions and back-and-forth between host and guest\n",
    "   - Ensure the guest's responses are substantiated by the input text, avoiding unsupported claims\n",
    "   - Maintain a PG-rated conversation appropriate for all audiences\n",
    "   - Avoid any marketing or self-promotional content from the guest\n",
    "   - The host concludes the conversation\n",
    "\n",
    "4. **Summarize Key Insights:**\n",
    "   Naturally weave a summary of key points into the closing part of the dialogue. This should feel like a casual conversation rather than a formal recap, reinforcing the main takeaways before signing off.\n",
    "\n",
    "5. **Maintain Authenticity:**\n",
    "   Throughout the script, strive for authenticity in the conversation. Include:\n",
    "   - Moments of genuine curiosity or surprise from the host\n",
    "   - Instances where the guest might briefly struggle to articulate a complex idea\n",
    "   - Light-hearted moments or humor when appropriate\n",
    "   - Brief personal anecdotes or examples that relate to the topic (within the bounds of the input text)\n",
    "\n",
    "6. **Consider Pacing and Structure:**\n",
    "   Ensure the dialogue has a natural ebb and flow:\n",
    "   - Start with a strong hook to grab the listener's attention\n",
    "   - Gradually build complexity as the conversation progresses\n",
    "   - Include brief \"breather\" moments for listeners to absorb complex information\n",
    "   - End on a high note, perhaps with a thought-provoking question or a call-to-action for listeners\n",
    "\n",
    "IMPORTANT RULE: Each line of dialogue should be no more than 100 characters (e.g., can finish within 5-8 seconds)\n",
    "\n",
    "Remember: Always reply in valid JSON format, without code blocks. Begin directly with the JSON output.\n",
    "\"\"\""
   ]
  },
  {
   "cell_type": "code",
   "execution_count": null,
   "metadata": {},
   "outputs": [],
   "source": [
    "from typing import Literal, List\n",
    "\n",
    "from pydantic import BaseModel, Field\n",
    "import os\n",
    "\n",
    "\n",
    "class DialogueItem(BaseModel):\n",
    "    \"\"\"A single dialogue item.\"\"\"\n",
    "\n",
    "    speaker: Literal[\"Host (Jane)\", \"Guest\"]\n",
    "    text: str\n",
    "\n",
    "class MediumDialogue(BaseModel):\n",
    "    \"\"\"The dialogue between the host and guest.\"\"\"\n",
    "\n",
    "    scratchpad: str\n",
    "    name_of_guest: str\n",
    "    dialogue: List[DialogueItem] = Field(\n",
    "        ..., description=\"A list of dialogue items, typically between 29 to 39 items\"\n",
    "    )\n",
    "\n",
    "class TopicItem(BaseModel):\n",
    "    \"\"\"A single topic item.\"\"\"\n",
    "    date: str\n",
    "    subject: str\n",
    "    activity: str\n",
    "    risks: List[str]\n",
    "    resolutions: List[str]\n",
    "class Topics(BaseModel):\n",
    "    \"\"\"A class to represent topics with date, subject, activity, risks, and resolutions.\"\"\"\n",
    "\n",
    "    topics: List[TopicItem] = Field(\n",
    "        ..., description=\"A list of topic items\"\n",
    "    )"
   ]
  },
  {
   "cell_type": "code",
   "execution_count": null,
   "metadata": {},
   "outputs": [],
   "source": [
    "with open(os.path.join('..', 'examples', \"call-center-status0.md\"), \"r\") as f:\n",
    "    input_text = f.read()\n",
    "\n",
    "other_updates = [os.path.join('..', 'examples', \"call-center-status1.md\"), os.path.join('..', 'examples', \"call-center-status2.md\"), os.path.join('..', 'examples', \"call-center-status3.md\")]\n",
    "for update in other_updates:\n",
    "    with open(update, \"r\") as f:\n",
    "        input_text += f.read()\n",
    "print(input_text)"
   ]
  },
  {
   "cell_type": "code",
   "execution_count": null,
   "metadata": {},
   "outputs": [],
   "source": [
    "# Let's make an initial LLM call to condition the input for the dialogue generation\n",
    "SUMMARY_SYSTEM_PROMPT = \"\"\"\n",
    "You are a world-class podcast producer tasked with extracting from the provided input key pieces of data that will be used later to generate a script for a podcast episode. The input may be unstructured or messy, sourced from PDFs or web pages. Your goal is to extract the key information, things like subject, dates, activities, risks, resolutions, etc.. and then group them so they can be used later to generate a script for a podcast episode.\n",
    "\n",
    "\n",
    "# Steps to Follow:\n",
    "1. **Analyze the Input:** \n",
    "    Carefullly examine the text to pull out key information like subject, dates, activities, risks, resolutions, etc.\n",
    "2. **Group the Information:**\n",
    "    Group the information by date, and then by subject, and then by activity.\n",
    "3. **Output the Information:**\n",
    "    Output the information in a JSON format, without any additional text or explanation.\n",
    "\n",
    "Remember: Always reply in valid JSON format, without code blocks. Begin directly with the JSON output.\n",
    "\"\"\""
   ]
  },
  {
   "cell_type": "code",
   "execution_count": null,
   "metadata": {},
   "outputs": [],
   "source": [
    "from utils import call_llm\n",
    "\n",
    "topic_extraction = call_llm(SUMMARY_SYSTEM_PROMPT, input_text, Topics)\n",
    "topic_extraction.to_dict()\n",
    "topic_dialog_feeder = topic_extraction.model_dump_json()\n",
    "\n",
    "modified_system_prompt = SYSTEM_PROMPT\n",
    "modified_system_prompt += \"\\n\\nAim for a moderate length, about 3-5 minutes.\"\n",
    "modified_system_prompt += \"\\n\\nOUTPUT LANGUAGE <IMPORTANT>: The the podcast should be English.\"\n",
    "\n",
    "# Call the LLM for the first time\n",
    "first_draft_dialogue = call_llm(modified_system_prompt, topic_dialog_feeder, MediumDialogue)"
   ]
  },
  {
   "cell_type": "code",
   "execution_count": null,
   "metadata": {},
   "outputs": [],
   "source": [
    "first_draft_dialogue.to_dict()"
   ]
  },
  {
   "cell_type": "code",
   "execution_count": null,
   "metadata": {},
   "outputs": [],
   "source": [
    "# Call the LLM a second time to improve the dialogue\n",
    "system_prompt_with_dialogue = f\"{modified_system_prompt}\\n\\nHere is the first draft of the dialogue you provided:\\n\\n{first_draft_dialogue.model_dump_json()}.\"\n",
    "final_dialogue = call_llm(system_prompt_with_dialogue, \"Please improve the dialogue. Make it more natural and engaging.\", MediumDialogue)"
   ]
  },
  {
   "cell_type": "code",
   "execution_count": null,
   "metadata": {},
   "outputs": [],
   "source": [
    "final_dialogue.to_dict()"
   ]
  },
  {
   "cell_type": "code",
   "execution_count": null,
   "metadata": {},
   "outputs": [],
   "source": [
    "import json\n",
    "result = json.loads(final_dialogue.choices[0].message.content)\n",
    "result[\"dialogue\"]"
   ]
  },
  {
   "cell_type": "code",
   "execution_count": null,
   "metadata": {},
   "outputs": [],
   "source": [
    "\n",
    "with open(\"status-report-1-script.json\", \"w\") as f:\n",
    "    f.write(json.dumps(result[\"dialogue\"], indent=4, ensure_ascii=False))"
   ]
  }
 ],
 "metadata": {
  "kernelspec": {
   "display_name": ".venv",
   "language": "python",
   "name": "python3"
  },
  "language_info": {
   "codemirror_mode": {
    "name": "ipython",
    "version": 3
   },
   "file_extension": ".py",
   "mimetype": "text/x-python",
   "name": "python",
   "nbconvert_exporter": "python",
   "pygments_lexer": "ipython3",
   "version": "3.13.2"
  }
 },
 "nbformat": 4,
 "nbformat_minor": 2
}
